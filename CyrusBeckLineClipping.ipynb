{
  "nbformat": 4,
  "nbformat_minor": 0,
  "metadata": {
    "colab": {
      "provenance": [],
      "authorship_tag": "ABX9TyONKogGlaVLMB7dsQBfX1Zn",
      "include_colab_link": true
    },
    "kernelspec": {
      "name": "python3",
      "display_name": "Python 3"
    },
    "language_info": {
      "name": "python"
    }
  },
  "cells": [
    {
      "cell_type": "markdown",
      "metadata": {
        "id": "view-in-github",
        "colab_type": "text"
      },
      "source": [
        "<a href=\"https://colab.research.google.com/github/AnyaAP/CyrusBeckLineClipping/blob/main/CyrusBeckLineClipping.ipynb\" target=\"_parent\"><img src=\"https://colab.research.google.com/assets/colab-badge.svg\" alt=\"Open In Colab\"/></a>"
      ]
    },
    {
      "cell_type": "code",
      "execution_count": 1,
      "metadata": {
        "colab": {
          "base_uri": "https://localhost:8080/",
          "height": 728
        },
        "id": "ulmgN6hY4rrj",
        "outputId": "963db0b9-0845-4ace-b4d7-2ffb226ffbc6"
      },
      "outputs": [
        {
          "name": "stdout",
          "output_type": "stream",
          "text": [
            "n: 6\n",
            "x: 10\n",
            "y: 30\n",
            "x: 20\n",
            "y: 10\n",
            "x: 50\n",
            "y: 10\n",
            "x: 60\n",
            "y: 30\n",
            "x: 50\n",
            "y: 50\n",
            "x: 20\n",
            "y: 50\n",
            "x1: 10\n",
            "y1: 10\n",
            "x2: 70\n",
            "y2: 50\n"
          ]
        },
        {
          "output_type": "display_data",
          "data": {
            "text/plain": [
              "<Figure size 640x480 with 1 Axes>"
            ],
            "image/png": "[encoded data removed]"
          },
          "metadata": {}
        }
      ],
      "source": [
        "from posixpath import normcase\n",
        "from PIL import Image\n",
        "import matplotlib.pyplot as plt\n",
        "import PIL.ImageDraw as ID, PIL.Image as Image\n",
        "import numpy as np\n",
        "\n",
        "image = Image.new(\"RGB\", (100, 100))\n",
        "\n",
        "def Bresenham(x0,y0,x1,y1, fill):\n",
        "  e=0\n",
        "  is_steep = abs(y1-y0) > abs(x1-x0)\n",
        "  if is_steep:\n",
        "    temp = x0\n",
        "    x0 = y0\n",
        "    y0 = temp\n",
        "    temp1 = x1\n",
        "    x1 = y1\n",
        "    y1 = temp1\n",
        "  if x0 > x1:\n",
        "   temp2 = x0\n",
        "   x0 = x1\n",
        "   x1 = temp2\n",
        "   temp3 = y0\n",
        "   y0 = y1\n",
        "   y1 = temp3\n",
        "  cur_y=y0\n",
        "  for i in range(x0,x1+1):\n",
        "    if is_steep:\n",
        "      image.putpixel((cur_y,i),fill)\n",
        "    else:\n",
        "     image.putpixel((i,cur_y),fill)\n",
        "    e=e+2*abs(y1-y0)\n",
        "    if e > abs(x1-x0):\n",
        "     e=e-2*abs(x1-x0)\n",
        "     if y1>y0:\n",
        "        cur_y+=1\n",
        "     elif y1<y0:\n",
        "       cur_y-=1\n",
        "     else:\n",
        "       cur_y = y0\n",
        "\n",
        "def dot(x1, y1, x2, y2):\n",
        "    return x1 * x2 + y1 * y2\n",
        "\n",
        "\n",
        "def CyrusBeckLineClipping(x1, y1, x2, y2, vertices, n):\n",
        "    normal=[[0]*2 for i in range(n)]\n",
        "\n",
        "    for i in range(0, n):\n",
        "        normal[i][1] = vertices[(i + 1) % n][0] - vertices[i][0]\n",
        "        normal[i][0] = vertices[i][1] - vertices[(i + 1) % n][1]\n",
        "\n",
        "    dx = x2 - x1\n",
        "    dy = y2 - y1\n",
        "\n",
        "    dp1e=[[0]*2 for i in range(n)]\n",
        "\n",
        "    for i in range(0, n):\n",
        "        dp1e[i][0] = vertices[i][0] - x1\n",
        "        dp1e[i][1] = vertices[i][1] - y1\n",
        "\n",
        "    numerator=[0]*n\n",
        "    denominator=[0]*n\n",
        "\n",
        "    for i in range(0, n):\n",
        "        numerator[i] = dot(normal[i][0], normal[i][1], dp1e[i][0], dp1e[i][1])\n",
        "        denominator[i] = dot(normal[i][0], normal[i][1], dx, dy)\n",
        "\n",
        "    t=[0]*n\n",
        "\n",
        "    tE = np.array([0])\n",
        "    tL = np.array([1])\n",
        "\n",
        "    for i in range(0, n):\n",
        "        t[i] = float(numerator[i]) / float(denominator[i])\n",
        "        if denominator[i] > 0:\n",
        "            tE = np.append(tE, t[i])\n",
        "        else:\n",
        "            tL = np.append(tL, t[i])\n",
        "\n",
        "    temp0 = np.amax(tE)\n",
        "    temp1 = np.amin(tL)\n",
        "\n",
        "    if temp0 > temp1:\n",
        "        return\n",
        "\n",
        "    New_X1 = float(x1) + float(dx) * float(temp0)\n",
        "    New_Y1 = float(y1) + float(dy) * float(temp0)\n",
        "    New_X2 = float(x1) + float(dx) * float(temp1)\n",
        "    New_Y2 = float(y1) + float(dy) * float(temp1)\n",
        "    Bresenham(int(New_X1), int(New_Y1), int(New_X2), int(New_Y2), (255,255,255))\n",
        "\n",
        "if __name__ == '__main__':\n",
        "    n = int(input(\"n: \"))\n",
        "    i=0\n",
        "    vertices=[[0]*2 for i in range(0,n)]\n",
        "    for i in range(0,n):\n",
        "      x=int(input(\"x: \"))\n",
        "      y=int(input(\"y: \"))\n",
        "      vertices[i]=(x,y)\n",
        "    x1 = int(input(\"x1: \"))\n",
        "    y1 = int(input(\"y1: \"))\n",
        "    x2 = int(input(\"x2: \"))\n",
        "    y2 = int(input(\"y2: \"))\n",
        "    for i in range(0,n-1):\n",
        "      Bresenham(vertices[i][0], vertices[i][1],vertices[i+1][0],vertices[i+1][1],(0,255,0))\n",
        "    Bresenham(vertices[n-1][0], vertices[n-1][1],vertices[0][0],vertices[0][1],(0,255,0))\n",
        "    CyrusBeckLineClipping(x1, y1, x2, y2, vertices, n)\n",
        "    plt.imshow(image)"
      ]
    }
  ]
}