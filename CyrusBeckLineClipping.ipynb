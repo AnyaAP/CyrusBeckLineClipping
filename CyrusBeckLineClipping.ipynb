{
  "nbformat": 4,
  "nbformat_minor": 0,
  "metadata": {
    "colab": {
      "provenance": [],
      "authorship_tag": "ABX9TyORnZZd7wQ+mKqaYnupazR/",
      "include_colab_link": true
    },
    "kernelspec": {
      "name": "python3",
      "display_name": "Python 3"
    },
    "language_info": {
      "name": "python"
    }
  },
  "cells": [
    {
      "cell_type": "markdown",
      "metadata": {
        "id": "view-in-github",
        "colab_type": "text"
      },
      "source": [
        "<a href=\"https://colab.research.google.com/github/AnyaAP/CyrusBeckLineClipping/blob/main/CyrusBeckLineClipping.ipynb\" target=\"_parent\"><img src=\"https://colab.research.google.com/assets/colab-badge.svg\" alt=\"Open In Colab\"/></a>"
      ]
    },
    {
      "cell_type": "code",
      "execution_count": 1,
      "metadata": {
        "colab": {
          "base_uri": "https://localhost:8080/",
          "height": 504
        },
        "id": "ulmgN6hY4rrj",
        "outputId": "08e1b022-ea13-465c-ede8-1d9bffdb042d"
      },
      "outputs": [
        {
          "name": "stdout",
          "output_type": "stream",
          "text": [
            "x1: 30\n",
            "y1: 40\n",
            "x2: 300\n",
            "y2: 400\n"
          ]
        },
        {
          "output_type": "display_data",
          "data": {
            "text/plain": [
              "<Figure size 640x480 with 1 Axes>"
            ],
            "image/png": "[encoded data removed]"
          },
          "metadata": {}
        }
      ],
      "source": [
        "from PIL import Image\n",
        "import matplotlib.pyplot as plt\n",
        "import PIL.ImageDraw as ID, PIL.Image as Image\n",
        "import numpy as np\n",
        "\n",
        "im = Image.new(\"RGB\", (640, 480))\n",
        "im1 = Image.new(\"RGB\", (640, 480))\n",
        "draw = ID.Draw(im)\n",
        "draw2 = ID.Draw(im1)\n",
        "draw.polygon((200, 50, 250, 100, 200, 150, 100, 150, 50, 100, 100, 50), outline=255)\n",
        "draw2.polygon((200, 50, 250, 100, 200, 150, 100, 150, 50, 100, 100, 50), outline=255)\n",
        "vertices = [[200, 50], [250, 100], [200, 150], [100, 150], [50, 100], [100, 50]]\n",
        "n = 6\n",
        "\n",
        "\n",
        "def dot(x1, y1, x2, y2):\n",
        "    return x1 * x2 + y1 * y2\n",
        "\n",
        "\n",
        "def CyrusBeckLineClipping(x1, y1, x2, y2):\n",
        "    normal = [[0, 0], [0, 0], [0, 0], [0, 0], [0, 0], [0, 0]]\n",
        "\n",
        "    for i in range(0, n):\n",
        "        normal[i][1] = vertices[(i + 1) % n][0] - vertices[i][0]\n",
        "        normal[i][0] = vertices[i][1] - vertices[(i + 1) % n][1]\n",
        "\n",
        "    dx = x2 - x1\n",
        "    dy = y2 - y1\n",
        "\n",
        "    dp1e = [[0, 0], [0, 0], [0, 0], [0, 0], [0, 0], [0, 0]]\n",
        "\n",
        "    for i in range(0, n):\n",
        "        dp1e[i][0] = vertices[i][0] - x1\n",
        "        dp1e[i][1] = vertices[i][1] - y1\n",
        "\n",
        "    numerator = [0, 0, 0, 0, 0, 0]\n",
        "    denominator = [0, 0, 0, 0, 0, 0]\n",
        "\n",
        "    for i in range(0, n):\n",
        "        numerator[i] = dot(normal[i][0], normal[i][1], dp1e[i][0], dp1e[i][1])\n",
        "        denominator[i] = dot(normal[i][0], normal[i][1], dx, dy)\n",
        "\n",
        "    t = [0, 0, 0, 0, 0, 0]\n",
        "    tE = np.array([0])\n",
        "    tL = np.array([1])\n",
        "\n",
        "    for i in range(0, n):\n",
        "        t[i] = float(numerator[i]) / float(denominator[i])\n",
        "        if denominator[i] > 0:\n",
        "            tE = np.append(tE, t[i])\n",
        "        else:\n",
        "            tL = np.append(tL, t[i])\n",
        "\n",
        "    temp0 = np.amax(tE)\n",
        "    temp1 = np.amin(tL)\n",
        "\n",
        "    if temp0 > temp1:\n",
        "        return\n",
        "\n",
        "    New_X1 = float(x1) + float(dx) * float(temp0)\n",
        "    New_Y1 = float(y1) + float(dy) * float(temp0)\n",
        "    New_X2 = float(x1) + float(dx) * float(temp1)\n",
        "    New_Y2 = float(y1) + float(dy) * float(temp1)\n",
        "    draw2.line((New_X1, New_Y1, New_X2, New_Y2), fill=(0, 255, 0))\n",
        "\n",
        "\n",
        "def clippingProcess(x1, y1, x2, y2):\n",
        "    draw.line((x1, y1, x2, y2), fill=(0, 255, 0)) #color of the line\n",
        "    CyrusBeckLineClipping(x1, y1, x2, y2)\n",
        "\n",
        "if __name__ == '__main__':\n",
        "    x1 = int(input(\"x1: \"))\n",
        "    y1 = int(input(\"y1: \"))\n",
        "    x2 = int(input(\"x2: \"))\n",
        "    y2 = int(input(\"y2: \"))\n",
        "\n",
        "    clippingProcess(x1, y1, x2, y2)\n",
        "    plt.imshow(im)\n",
        "    plt.imshow(im1)"
      ]
    }
  ]
}